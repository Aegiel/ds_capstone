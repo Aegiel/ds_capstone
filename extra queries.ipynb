{
 "cells": [
  {
   "cell_type": "markdown",
   "metadata": {},
   "source": [
    "### Download the datasets\n",
    "\n",
    "This assignment requires you to load the spacex dataset.\n",
    "\n",
    "In many cases the dataset to be analyzed is available as a .CSV (comma separated values) file, perhaps on the internet. Click on the link below to download and save the dataset (.CSV file):\n",
    "\n",
    " <a href=\"https://cf-courses-data.s3.us.cloud-object-storage.appdomain.cloud/IBM-DS0321EN-SkillsNetwork/labs/module_2/data/Spacex.csv\" target=\"_blank\">Spacex DataSet</a>\n",
    "\n"
   ]
  },
  {
   "cell_type": "code",
   "execution_count": null,
   "metadata": {
    "tags": []
   },
   "outputs": [],
   "source": [
    "!pip install sqlalchemy==1.3.9"
   ]
  },
  {
   "cell_type": "markdown",
   "metadata": {},
   "source": [
    "### Connect to the database\n",
    "\n",
    "Let us first load the SQL extension and establish a connection with the database\n"
   ]
  },
  {
   "cell_type": "code",
   "execution_count": null,
   "metadata": {
    "tags": []
   },
   "outputs": [],
   "source": [
    "%load_ext sql"
   ]
  },
  {
   "cell_type": "code",
   "execution_count": null,
   "metadata": {
    "tags": []
   },
   "outputs": [],
   "source": [
    "import csv, sqlite3\n",
    "\n",
    "con = sqlite3.connect(\"my_data1.db\")\n",
    "cur = con.cursor()"
   ]
  },
  {
   "cell_type": "code",
   "execution_count": null,
   "metadata": {
    "tags": []
   },
   "outputs": [],
   "source": [
    "!pip install -q pandas==1.1.5"
   ]
  },
  {
   "cell_type": "code",
   "execution_count": null,
   "metadata": {
    "tags": []
   },
   "outputs": [],
   "source": [
    "%sql sqlite:///my_data1.db"
   ]
  },
  {
   "cell_type": "code",
   "execution_count": null,
   "metadata": {
    "tags": []
   },
   "outputs": [],
   "source": [
    "import pandas as pd\n",
    "df = pd.read_csv(\"https://cf-courses-data.s3.us.cloud-object-storage.appdomain.cloud/IBM-DS0321EN-SkillsNetwork/labs/module_2/data/Spacex.csv\")\n",
    "df.to_sql(\"SPACEXTBL\", con, if_exists='replace', index=False,method=\"multi\")"
   ]
  },
  {
   "cell_type": "markdown",
   "metadata": {},
   "source": [
    "**Note:This below code is added to remove blank rows from table**\n"
   ]
  },
  {
   "cell_type": "code",
   "execution_count": null,
   "metadata": {
    "tags": []
   },
   "outputs": [],
   "source": [
    "%sql create table SPACEXTABLE as select * from SPACEXTBL where Date is not null"
   ]
  },
  {
   "cell_type": "code",
   "execution_count": null,
   "metadata": {
    "tags": []
   },
   "outputs": [],
   "source": [
    "%sql SELECT * FROM SPACEXTABLE"
   ]
  },
  {
   "cell_type": "markdown",
   "metadata": {},
   "source": [
    "## EXTRA QUERIES\n",
    "\n",
    "### QUERY 1\n",
    "\n",
    "##### Find the launch site with the highest success rate for missions:\n"
   ]
  },
  {
   "cell_type": "code",
   "execution_count": null,
   "metadata": {
    "tags": []
   },
   "outputs": [],
   "source": [
    "%sql SELECT Launch_Site, \n",
    "       COUNT(CASE WHEN Mission_Outcome = 'Success' THEN 1 ELSE NULL END) AS Successful_Missions,\n",
    "       COUNT(*) AS Total_Missions,\n",
    "       (COUNT(CASE WHEN Mission_Outcome = 'Success' THEN 1 ELSE NULL END) * 100.0 / COUNT(*)) AS Success_Rate\n",
    "    FROM SPACEXTABLE\n",
    "    GROUP BY Launch_Site\n",
    "    ORDER BY Success_Rate DESC\n",
    "    LIMIT 1;"
   ]
  },
  {
   "cell_type": "markdown",
   "metadata": {},
   "source": [
    "\n",
    "### QUERY 2\n",
    "\n",
    "\n",
    "#####  List the customers who had successful missions and the number of successful missions for each customer: \n"
   ]
  },
  {
   "cell_type": "code",
   "execution_count": null,
   "metadata": {
    "tags": []
   },
   "outputs": [],
   "source": [
    "%sql SELECT Customer, COUNT(*) AS Successful_Missions\n",
    "    FROM SPACEXTABLE\n",
    "    WHERE Mission_Outcome = 'Success'\n",
    "    GROUP BY Customer;"
   ]
  },
  {
   "cell_type": "markdown",
   "metadata": {},
   "source": [
    "### QUERY 3\n",
    "\n",
    "\n",
    "\n",
    "\n",
    "##### Find the booster version that had the highest total payload mass, along with the corresponding launch site:\n"
   ]
  },
  {
   "cell_type": "code",
   "execution_count": null,
   "metadata": {
    "tags": []
   },
   "outputs": [],
   "source": [
    "%sql SELECT Booster_Version, Launch_Site\n",
    "    FROM SPACEXTABLE\n",
    "    WHERE (Booster_Version, PAYLOAD_MASS__KG_) IN (\n",
    "        SELECT Booster_Version, MAX(PAYLOAD_MASS__KG_)\n",
    "        FROM SPACEXTABLE\n",
    "        GROUP BY Booster_Version\n",
    "    );"
   ]
  },
  {
   "cell_type": "markdown",
   "metadata": {},
   "source": [
    "### QUERY 4\n",
    "\n",
    "\n",
    "\n",
    "\n",
    "##### List the payloads for missions with a successful landing outcome and a payload mass greater than the average payload mass for all missions:\n"
   ]
  },
  {
   "cell_type": "code",
   "execution_count": null,
   "metadata": {
    "tags": []
   },
   "outputs": [],
   "source": [
    "%sql SELECT Payload\n",
    "    FROM SPACEXTABLE\n",
    "    WHERE Landing_Outcome = 'Success'\n",
    "    AND PAYLOAD_MASS__KG_ > (\n",
    "        SELECT AVG(PAYLOAD_MASS__KG_)\n",
    "        FROM SPACEXTABLE\n",
    "    );"
   ]
  },
  {
   "cell_type": "markdown",
   "metadata": {},
   "source": [
    "### QUERY 5\n",
    "\n",
    "##### Retrieve the launch site with the highest success rate for missions with payloads to a specific orbit:\n",
    "\n"
   ]
  },
  {
   "cell_type": "code",
   "execution_count": null,
   "metadata": {
    "tags": []
   },
   "outputs": [],
   "source": [
    "%sql SELECT Launch_Site\n",
    "    FROM SPACEXTABLE\n",
    "    WHERE Orbit = 'Desired_Orbit' AND Mission_Outcome = 'Success'\n",
    "    GROUP BY Launch_Site\n",
    "    HAVING COUNT(*) = (\n",
    "        SELECT MAX(Count_Mission)\n",
    "        FROM (\n",
    "            SELECT Launch_Site, COUNT(*) AS Count_Mission\n",
    "            FROM SPACEXTABLE\n",
    "            WHERE Orbit = 'Desired_Orbit'\n",
    "            GROUP BY Launch_Site, Mission_Outcome\n",
    "        )\n",
    "    );"
   ]
  },
  {
   "cell_type": "markdown",
   "metadata": {},
   "source": [
    "### QUERY 6\n",
    "\n",
    "##### Find the top 5 customers with the highest total payload mass and the corresponding missions:\n"
   ]
  },
  {
   "cell_type": "code",
   "execution_count": null,
   "metadata": {
    "tags": []
   },
   "outputs": [],
   "source": [
    "%sql SELECT Customer, Payload, Total_Payload_Mass\n",
    "    FROM (\n",
    "        SELECT Customer, Payload, SUM(PAYLOAD_MASS__KG_) AS Total_Payload_Mass\n",
    "        FROM SPACEXTABLE\n",
    "        GROUP BY Customer, Payload\n",
    "        ORDER BY Total_Payload_Mass DESC\n",
    "    ) AS RankedPayloads\n",
    "    LIMIT 5;"
   ]
  },
  {
   "cell_type": "markdown",
   "metadata": {},
   "source": [
    "### QUERY 7\n",
    "\n",
    "\n",
    "\n",
    "\n",
    "##### Calculate the average payload mass for missions with a successful landing outcome and compare it to the average payload mass for missions with a failed landing outcome for each booster version:\n"
   ]
  },
  {
   "cell_type": "code",
   "execution_count": null,
   "metadata": {
    "tags": []
   },
   "outputs": [],
   "source": [
    "%sql SELECT Booster_Version, AVG(PAYLOAD_MASS__KG_) AS Avg_Successful_Landing_Mass, Avg_Failed_Landing_Mass\n",
    "    FROM (\n",
    "        SELECT Booster_Version, AVG(CASE WHEN Landing_Outcome = 'Success' THEN PAYLOAD_MASS__KG_ ELSE NULL END) AS Avg_Successful_Landing_Mass\n",
    "        FROM SPACEXTABLE\n",
    "        GROUP BY Booster_Version\n",
    "    ) AS SuccessfulLanding\n",
    "    LEFT JOIN (\n",
    "        SELECT Booster_Version, AVG(CASE WHEN Landing_Outcome = 'Failure' THEN PAYLOAD_MASS__KG_ ELSE NULL END) AS Avg_Failed_Landing_Mass\n",
    "        FROM SPACEXTABLE\n",
    "        GROUP BY Booster_Version\n",
    "    ) AS FailedLanding ON SuccessfulLanding.Booster_Version = FailedLanding.Booster_Version;"
   ]
  }
 ],
 "metadata": {
  "kernelspec": {
   "display_name": "Python",
   "language": "python",
   "name": "conda-env-python-py"
  },
  "language_info": {
   "codemirror_mode": {
    "name": "ipython",
    "version": 3
   },
   "file_extension": ".py",
   "mimetype": "text/x-python",
   "name": "python",
   "nbconvert_exporter": "python",
   "pygments_lexer": "ipython3",
   "version": "3.7.12"
  }
 },
 "nbformat": 4,
 "nbformat_minor": 4
}
